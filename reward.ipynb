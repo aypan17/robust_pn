{
 "cells": [
  {
   "cell_type": "code",
   "execution_count": 1,
   "metadata": {},
   "outputs": [],
   "source": [
    "from grid2op.Reward import L2RPNReward\n",
    "\n",
    "# is it highly recommended to modify the reward depening on the algorithm.\n",
    "# for example here i will push my algorithm to learn that plyaing illegal or ambiguous action is bad\n",
    "class IllegalBadReward(L2RPNReward):\n",
    "    def initialize(self, env):\n",
    "        self.reward_min = 0.0\n",
    "        self.reward_max = 1.0\n",
    "\n",
    "    def __call__(self, action, env, has_error, is_done, is_illegal, is_ambiguous):\n",
    "        if has_error or is_illegal or is_ambiguous:\n",
    "            # previous action was bad\n",
    "            res = self.reward_min\n",
    "        elif is_done:\n",
    "            # really strong reward if an episode is over without game over\n",
    "            res = self.reward_max\n",
    "        else:\n",
    "            res = super().__call__(action, env, has_error, is_done, is_illegal, is_ambiguous)\n",
    "            res /= env.n_line\n",
    "            if not np.isfinite(res):\n",
    "                res = self.reward_min\n",
    "        return res"
   ]
  },
  {
   "cell_type": "code",
   "execution_count": null,
   "metadata": {},
   "outputs": [],
   "source": []
  }
 ],
 "metadata": {
  "kernelspec": {
   "display_name": "Python 3",
   "language": "python",
   "name": "python3"
  },
  "language_info": {
   "codemirror_mode": {
    "name": "ipython",
    "version": 3
   },
   "file_extension": ".py",
   "mimetype": "text/x-python",
   "name": "python",
   "nbconvert_exporter": "python",
   "pygments_lexer": "ipython3",
   "version": "3.6.6"
  }
 },
 "nbformat": 4,
 "nbformat_minor": 4
}
