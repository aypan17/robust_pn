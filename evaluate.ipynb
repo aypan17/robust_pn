{
 "cells": [
  {
   "cell_type": "code",
   "execution_count": 5,
   "metadata": {},
   "outputs": [],
   "source": [
    "import os\n",
    "import tensorflow as tf\n",
    "\n",
    "from grid2op.MakeEnv import make\n",
    "from grid2op.Runner import Runner\n",
    "from grid2op.Reward import *\n",
    "from grid2op.Action import *\n",
    "from grid2op.Reward import L2RPNSandBoxScore, L2RPNReward\n",
    "from grid2op.Agent import DoNothingAgent\n",
    "\n",
    "from l2rpn_baselines.utils.save_log_gif import save_log_gif"
   ]
  },
  {
   "cell_type": "code",
   "execution_count": 4,
   "metadata": {},
   "outputs": [],
   "source": [
    "def evaluate(env_name, agent, action_class, log_path, verbose=True, nb_episode=10, nb_process=1, max_iter=150,\n",
    "             save_gif=False):\n",
    "    env = make(env_name, action_class=action_class, reward_class=L2RPNSandBoxScore,\n",
    "               other_rewards={\n",
    "                   \"reward\": L2RPNReward\n",
    "               })\n",
    "    \n",
    "    runner_params = env.get_params_for_runner()\n",
    "    runner_params[\"verbose\"] = verbose\n",
    "    \n",
    "    runner = Runner(**runner_params, agentClass=None, agentInstance=agent)\n",
    "    \n",
    "    res = runner.run(path_save=log_path, nb_episode=nb_episode, nb_process=nb_process, max_iter=150)\n",
    "    if verbose:\n",
    "        print(\"Evaluation summary:\")\n",
    "        for _, chron_name, cum_reward, nb_time_step, max_ts in res:\n",
    "            msg_tmp = \"chronics at: {}\".format(chron_name)\n",
    "            msg_tmp += \"\\ttotal reward: {:.6f}\".format(cum_reward)\n",
    "            msg_tmp += \"\\ttime steps: {:.0f}/{:.0f}\".format(nb_time_step,\n",
    "                                                            max_ts)\n",
    "            print(msg_tmp)\n",
    "\n",
    "    if save_gif:\n",
    "        save_log_gif(log_path, res)\n",
    "\n",
    "    return agent, res"
   ]
  },
  {
   "cell_type": "code",
   "execution_count": 6,
   "metadata": {},
   "outputs": [],
   "source": [
    "def evaluate_nothing_agent(env_name, action_class, log_path, verbose=True, nb_episode=10, nb_process=1, max_iter=150,\n",
    "             save_gif=False):\n",
    "    env = make(env_name, action_class, reward_class=L2RPNSandBoxScore,\n",
    "               other_rewards={\n",
    "                   \"reward\": L2RPNReward\n",
    "               })\n",
    "    \n",
    "    runner_params = env.get_params_for_runner()\n",
    "    runner_params[\"verbose\"] = verbose\n",
    "    \n",
    "    runner = Runner(**runner_params, agentClass=DoNothingAgent, agentInstance=None)\n",
    "    \n",
    "    res = runner.run(path_save=log_path, nb_episode=nb_episode, nb_process=nb_process, max_iter=150)\n",
    "    if verbose:\n",
    "        print(\"Evaluation summary:\")\n",
    "        for _, chron_name, cum_reward, nb_time_step, max_ts in res:\n",
    "            msg_tmp = \"chronics at: {}\".format(chron_name)\n",
    "            msg_tmp += \"\\ttotal reward: {:.6f}\".format(cum_reward)\n",
    "            msg_tmp += \"\\ttime steps: {:.0f}/{:.0f}\".format(nb_time_step,\n",
    "                                                            max_ts)\n",
    "            print(msg_tmp)\n",
    "\n",
    "    if save_gif:\n",
    "        save_log_gif(log_path, res)\n",
    "\n",
    "    return agent, res"
   ]
  },
  {
   "cell_type": "code",
   "execution_count": null,
   "metadata": {},
   "outputs": [],
   "source": []
  }
 ],
 "metadata": {
  "kernelspec": {
   "display_name": "Python 3",
   "language": "python",
   "name": "python3"
  },
  "language_info": {
   "codemirror_mode": {
    "name": "ipython",
    "version": 3
   },
   "file_extension": ".py",
   "mimetype": "text/x-python",
   "name": "python",
   "nbconvert_exporter": "python",
   "pygments_lexer": "ipython3",
   "version": "3.6.6"
  }
 },
 "nbformat": 4,
 "nbformat_minor": 4
}
